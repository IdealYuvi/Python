{
 "cells": [
  {
   "cell_type": "code",
   "execution_count": 1,
   "id": "b54a0400",
   "metadata": {},
   "outputs": [],
   "source": [
    "import numpy"
   ]
  },
  {
   "cell_type": "code",
   "execution_count": 2,
   "id": "a35bda2f",
   "metadata": {},
   "outputs": [
    {
     "data": {
      "text/plain": [
       "array([[187, 158, 104, 121, 143],\n",
       "       [198, 125, 255, 255, 147],\n",
       "       [209, 134, 255,  97, 182]], dtype=uint8)"
      ]
     },
     "execution_count": 2,
     "metadata": {},
     "output_type": "execute_result"
    }
   ],
   "source": [
    "import cv2\n",
    "\n",
    "im_g = cv2.imread('smallgray.png', 0)\n",
    "im_g"
   ]
  },
  {
   "cell_type": "code",
   "execution_count": 3,
   "id": "06b0666a",
   "metadata": {},
   "outputs": [
    {
     "data": {
      "text/plain": [
       "numpy.ndarray"
      ]
     },
     "execution_count": 3,
     "metadata": {},
     "output_type": "execute_result"
    }
   ],
   "source": [
    "type(im_g)"
   ]
  },
  {
   "cell_type": "code",
   "execution_count": 4,
   "id": "2c292574",
   "metadata": {},
   "outputs": [
    {
     "data": {
      "text/plain": [
       "array([[[187, 187, 187],\n",
       "        [158, 158, 158],\n",
       "        [104, 104, 104],\n",
       "        [121, 121, 121],\n",
       "        [143, 143, 143]],\n",
       "\n",
       "       [[198, 198, 198],\n",
       "        [125, 125, 125],\n",
       "        [255, 255, 255],\n",
       "        [255, 255, 255],\n",
       "        [147, 147, 147]],\n",
       "\n",
       "       [[209, 209, 209],\n",
       "        [134, 134, 134],\n",
       "        [255, 255, 255],\n",
       "        [ 97,  97,  97],\n",
       "        [182, 182, 182]]], dtype=uint8)"
      ]
     },
     "execution_count": 4,
     "metadata": {},
     "output_type": "execute_result"
    }
   ],
   "source": [
    "im_g = cv2.imread('smallgray.png', 1)\n",
    "im_g"
   ]
  },
  {
   "cell_type": "code",
   "execution_count": 5,
   "id": "a1fa04b1",
   "metadata": {},
   "outputs": [
    {
     "data": {
      "text/plain": [
       "True"
      ]
     },
     "execution_count": 5,
     "metadata": {},
     "output_type": "execute_result"
    }
   ],
   "source": [
    "cv2.imwrite('newsmallgray.png', im_g)"
   ]
  },
  {
   "cell_type": "code",
   "execution_count": 6,
   "id": "8b7175f9",
   "metadata": {},
   "outputs": [
    {
     "data": {
      "text/plain": [
       "array([[[187, 187, 187],\n",
       "        [158, 158, 158],\n",
       "        [104, 104, 104],\n",
       "        [121, 121, 121],\n",
       "        [143, 143, 143],\n",
       "        [187, 187, 187],\n",
       "        [158, 158, 158],\n",
       "        [104, 104, 104],\n",
       "        [121, 121, 121],\n",
       "        [143, 143, 143]],\n",
       "\n",
       "       [[198, 198, 198],\n",
       "        [125, 125, 125],\n",
       "        [255, 255, 255],\n",
       "        [255, 255, 255],\n",
       "        [147, 147, 147],\n",
       "        [198, 198, 198],\n",
       "        [125, 125, 125],\n",
       "        [255, 255, 255],\n",
       "        [255, 255, 255],\n",
       "        [147, 147, 147]],\n",
       "\n",
       "       [[209, 209, 209],\n",
       "        [134, 134, 134],\n",
       "        [255, 255, 255],\n",
       "        [ 97,  97,  97],\n",
       "        [182, 182, 182],\n",
       "        [209, 209, 209],\n",
       "        [134, 134, 134],\n",
       "        [255, 255, 255],\n",
       "        [ 97,  97,  97],\n",
       "        [182, 182, 182]]], dtype=uint8)"
      ]
     },
     "execution_count": 6,
     "metadata": {},
     "output_type": "execute_result"
    }
   ],
   "source": [
    "ims = numpy.hstack((im_g, im_g)) #horizontal stacking - use tuple in argument since hstack takes only one argument\n",
    "ims"
   ]
  },
  {
   "cell_type": "code",
   "execution_count": 7,
   "id": "d9ae84d8",
   "metadata": {},
   "outputs": [
    {
     "data": {
      "text/plain": [
       "array([[[187, 187, 187],\n",
       "        [158, 158, 158],\n",
       "        [104, 104, 104],\n",
       "        [121, 121, 121],\n",
       "        [143, 143, 143]],\n",
       "\n",
       "       [[198, 198, 198],\n",
       "        [125, 125, 125],\n",
       "        [255, 255, 255],\n",
       "        [255, 255, 255],\n",
       "        [147, 147, 147]],\n",
       "\n",
       "       [[209, 209, 209],\n",
       "        [134, 134, 134],\n",
       "        [255, 255, 255],\n",
       "        [ 97,  97,  97],\n",
       "        [182, 182, 182]],\n",
       "\n",
       "       [[187, 187, 187],\n",
       "        [158, 158, 158],\n",
       "        [104, 104, 104],\n",
       "        [121, 121, 121],\n",
       "        [143, 143, 143]],\n",
       "\n",
       "       [[198, 198, 198],\n",
       "        [125, 125, 125],\n",
       "        [255, 255, 255],\n",
       "        [255, 255, 255],\n",
       "        [147, 147, 147]],\n",
       "\n",
       "       [[209, 209, 209],\n",
       "        [134, 134, 134],\n",
       "        [255, 255, 255],\n",
       "        [ 97,  97,  97],\n",
       "        [182, 182, 182]]], dtype=uint8)"
      ]
     },
     "execution_count": 7,
     "metadata": {},
     "output_type": "execute_result"
    }
   ],
   "source": [
    "ims = numpy.vstack((im_g, im_g)) #vertical stacking - use tuple in argument since vstack takes only one argument\n",
    "ims"
   ]
  },
  {
   "cell_type": "code",
   "execution_count": 8,
   "id": "06bbbf75",
   "metadata": {},
   "outputs": [],
   "source": [
    "lst = numpy.vsplit(ims, 3)"
   ]
  },
  {
   "cell_type": "code",
   "execution_count": 9,
   "id": "4c4d7807",
   "metadata": {},
   "outputs": [
    {
     "data": {
      "text/plain": [
       "[array([[[187, 187, 187],\n",
       "         [158, 158, 158],\n",
       "         [104, 104, 104],\n",
       "         [121, 121, 121],\n",
       "         [143, 143, 143]],\n",
       " \n",
       "        [[198, 198, 198],\n",
       "         [125, 125, 125],\n",
       "         [255, 255, 255],\n",
       "         [255, 255, 255],\n",
       "         [147, 147, 147]]], dtype=uint8),\n",
       " array([[[209, 209, 209],\n",
       "         [134, 134, 134],\n",
       "         [255, 255, 255],\n",
       "         [ 97,  97,  97],\n",
       "         [182, 182, 182]],\n",
       " \n",
       "        [[187, 187, 187],\n",
       "         [158, 158, 158],\n",
       "         [104, 104, 104],\n",
       "         [121, 121, 121],\n",
       "         [143, 143, 143]]], dtype=uint8),\n",
       " array([[[198, 198, 198],\n",
       "         [125, 125, 125],\n",
       "         [255, 255, 255],\n",
       "         [255, 255, 255],\n",
       "         [147, 147, 147]],\n",
       " \n",
       "        [[209, 209, 209],\n",
       "         [134, 134, 134],\n",
       "         [255, 255, 255],\n",
       "         [ 97,  97,  97],\n",
       "         [182, 182, 182]]], dtype=uint8)]"
      ]
     },
     "execution_count": 9,
     "metadata": {},
     "output_type": "execute_result"
    }
   ],
   "source": [
    "lst"
   ]
  },
  {
   "cell_type": "code",
   "execution_count": 10,
   "id": "1c3ad496",
   "metadata": {},
   "outputs": [
    {
     "data": {
      "text/plain": [
       "[array([[[187, 187, 187]],\n",
       " \n",
       "        [[198, 198, 198]],\n",
       " \n",
       "        [[209, 209, 209]],\n",
       " \n",
       "        [[187, 187, 187]],\n",
       " \n",
       "        [[198, 198, 198]],\n",
       " \n",
       "        [[209, 209, 209]]], dtype=uint8),\n",
       " array([[[158, 158, 158]],\n",
       " \n",
       "        [[125, 125, 125]],\n",
       " \n",
       "        [[134, 134, 134]],\n",
       " \n",
       "        [[158, 158, 158]],\n",
       " \n",
       "        [[125, 125, 125]],\n",
       " \n",
       "        [[134, 134, 134]]], dtype=uint8),\n",
       " array([[[104, 104, 104]],\n",
       " \n",
       "        [[255, 255, 255]],\n",
       " \n",
       "        [[255, 255, 255]],\n",
       " \n",
       "        [[104, 104, 104]],\n",
       " \n",
       "        [[255, 255, 255]],\n",
       " \n",
       "        [[255, 255, 255]]], dtype=uint8),\n",
       " array([[[121, 121, 121]],\n",
       " \n",
       "        [[255, 255, 255]],\n",
       " \n",
       "        [[ 97,  97,  97]],\n",
       " \n",
       "        [[121, 121, 121]],\n",
       " \n",
       "        [[255, 255, 255]],\n",
       " \n",
       "        [[ 97,  97,  97]]], dtype=uint8),\n",
       " array([[[143, 143, 143]],\n",
       " \n",
       "        [[147, 147, 147]],\n",
       " \n",
       "        [[182, 182, 182]],\n",
       " \n",
       "        [[143, 143, 143]],\n",
       " \n",
       "        [[147, 147, 147]],\n",
       " \n",
       "        [[182, 182, 182]]], dtype=uint8)]"
      ]
     },
     "execution_count": 10,
     "metadata": {},
     "output_type": "execute_result"
    }
   ],
   "source": [
    "lst = numpy.hsplit(ims, 5)\n",
    "lst"
   ]
  },
  {
   "cell_type": "code",
   "execution_count": null,
   "id": "3ab62073",
   "metadata": {},
   "outputs": [],
   "source": [
    "\n"
   ]
  }
 ],
 "metadata": {
  "kernelspec": {
   "display_name": "Python 3 (ipykernel)",
   "language": "python",
   "name": "python3"
  },
  "language_info": {
   "codemirror_mode": {
    "name": "ipython",
    "version": 3
   },
   "file_extension": ".py",
   "mimetype": "text/x-python",
   "name": "python",
   "nbconvert_exporter": "python",
   "pygments_lexer": "ipython3",
   "version": "3.10.0"
  }
 },
 "nbformat": 4,
 "nbformat_minor": 5
}
